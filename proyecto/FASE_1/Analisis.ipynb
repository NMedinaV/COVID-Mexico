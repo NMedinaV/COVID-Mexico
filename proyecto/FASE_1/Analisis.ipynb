{
 "cells": [
  {
   "cell_type": "code",
   "execution_count": 1,
   "metadata": {},
   "outputs": [
    {
     "data": {
      "text/html": [
       "<script>\n",
       "code_show=true; \n",
       "function code_toggle() {\n",
       " if (code_show){\n",
       " $('div.input').hide();\n",
       " } else {\n",
       " $('div.input').show();\n",
       " }\n",
       " code_show = !code_show\n",
       "} \n",
       "$( document ).ready(code_toggle);\n",
       "</script>\n",
       "<form action=\"javascript:code_toggle()\"><input type=\"submit\" value=\"Click here to toggle on/off the raw code.\"></form>"
      ],
      "text/plain": [
       "<IPython.core.display.HTML object>"
      ]
     },
     "execution_count": 1,
     "metadata": {},
     "output_type": "execute_result"
    }
   ],
   "source": [
    "from IPython.display import HTML\n",
    "HTML('''<script>\n",
    "code_show=true; \n",
    "function code_toggle() {\n",
    " if (code_show){\n",
    " $('div.input').hide();\n",
    " } else {\n",
    " $('div.input').show();\n",
    " }\n",
    " code_show = !code_show\n",
    "} \n",
    "$( document ).ready(code_toggle);\n",
    "</script>\n",
    "<form action=\"javascript:code_toggle()\"><input type=\"submit\" value=\"Click here to toggle on/off the raw code.\"></form>''')"
   ]
  },
  {
   "cell_type": "code",
   "execution_count": 2,
   "metadata": {},
   "outputs": [
    {
     "data": {
      "text/html": [
       "<style>.container { width:100% !important; }</style>"
      ],
      "text/plain": [
       "<IPython.core.display.HTML object>"
      ]
     },
     "metadata": {},
     "output_type": "display_data"
    }
   ],
   "source": [
    "display(HTML(\"<style>.container { width:100% !important; }</style>\"))"
   ]
  },
  {
   "cell_type": "markdown",
   "metadata": {},
   "source": [
    "# FASE 1: Análisis"
   ]
  },
  {
   "cell_type": "markdown",
   "metadata": {},
   "source": [
    "**1. IMPORTACIÓN DE LIBRERIAS**"
   ]
  },
  {
   "cell_type": "code",
   "execution_count": 37,
   "metadata": {},
   "outputs": [],
   "source": [
    "import pandas as pd\n",
    "import numpy as np"
   ]
  },
  {
   "cell_type": "markdown",
   "metadata": {},
   "source": [
    "**2. CARGA DE LOS DATOS**"
   ]
  },
  {
   "cell_type": "markdown",
   "metadata": {},
   "source": [
    "A continuación se declara el siguiente dataframe generado en pandas y cargado a través de un archivo en csv llamado **dataset_covid2019.csv** en la ruta relativa \"../../data/dataset_covid2019.csv\", donde están contenidas las variables categóricas y numéricas. "
   ]
  },
  {
   "cell_type": "code",
   "execution_count": 4,
   "metadata": {},
   "outputs": [],
   "source": [
    "df = pd.read_csv(\"../../data/dataset_covid2019.csv\", encoding = \"ISO-8859-1\")"
   ]
  },
  {
   "cell_type": "code",
   "execution_count": 5,
   "metadata": {},
   "outputs": [],
   "source": [
    "#Función de la librería para que muestre todas las columnas\n",
    "pd.options.display.max_columns = None"
   ]
  },
  {
   "cell_type": "code",
   "execution_count": 6,
   "metadata": {},
   "outputs": [
    {
     "data": {
      "text/html": [
       "<div>\n",
       "<style scoped>\n",
       "    .dataframe tbody tr th:only-of-type {\n",
       "        vertical-align: middle;\n",
       "    }\n",
       "\n",
       "    .dataframe tbody tr th {\n",
       "        vertical-align: top;\n",
       "    }\n",
       "\n",
       "    .dataframe thead th {\n",
       "        text-align: right;\n",
       "    }\n",
       "</style>\n",
       "<table border=\"1\" class=\"dataframe\">\n",
       "  <thead>\n",
       "    <tr style=\"text-align: right;\">\n",
       "      <th></th>\n",
       "      <th>Fecha_Actualizacion</th>\n",
       "      <th>Id_Registro</th>\n",
       "      <th>Origen</th>\n",
       "      <th>Sector</th>\n",
       "      <th>Entidad_Um</th>\n",
       "      <th>Sexo</th>\n",
       "      <th>Entidad_Nac</th>\n",
       "      <th>Entidad_Res</th>\n",
       "      <th>Municipio_Res</th>\n",
       "      <th>Tipo_Paciente</th>\n",
       "      <th>Fecha_Ingreso</th>\n",
       "      <th>Fecha_Sintomas</th>\n",
       "      <th>Fecha_Def</th>\n",
       "      <th>Intubado</th>\n",
       "      <th>Neumonia</th>\n",
       "      <th>Edad</th>\n",
       "      <th>Nacionalidad</th>\n",
       "      <th>Embarazo</th>\n",
       "      <th>Habla_Lengua_Indig</th>\n",
       "      <th>Diabetes</th>\n",
       "      <th>Epoc</th>\n",
       "      <th>Asma</th>\n",
       "      <th>Inmusupr</th>\n",
       "      <th>Hipertension</th>\n",
       "      <th>Otra_Com</th>\n",
       "      <th>Cardiovascular</th>\n",
       "      <th>Obesidad</th>\n",
       "      <th>Renal_Cronica</th>\n",
       "      <th>Tabaquismo</th>\n",
       "      <th>Otro_Caso</th>\n",
       "      <th>Resultado</th>\n",
       "      <th>Migrante</th>\n",
       "      <th>Pais_Nacionalidad</th>\n",
       "      <th>Pais_Origen</th>\n",
       "      <th>Uci</th>\n",
       "      <th>Municipio</th>\n",
       "      <th>Estado</th>\n",
       "      <th>Latitud</th>\n",
       "      <th>Longitud</th>\n",
       "    </tr>\n",
       "  </thead>\n",
       "  <tbody>\n",
       "    <tr>\n",
       "      <th>0</th>\n",
       "      <td>04/05/2020</td>\n",
       "      <td>1ab4e5</td>\n",
       "      <td>2</td>\n",
       "      <td>Publico</td>\n",
       "      <td>25</td>\n",
       "      <td>Hombre</td>\n",
       "      <td>25</td>\n",
       "      <td>25</td>\n",
       "      <td>6</td>\n",
       "      <td>2</td>\n",
       "      <td>06/04/2020</td>\n",
       "      <td>31/03/2020</td>\n",
       "      <td>10/04/2020</td>\n",
       "      <td>Si</td>\n",
       "      <td>Si</td>\n",
       "      <td>42</td>\n",
       "      <td>1</td>\n",
       "      <td>No aplica</td>\n",
       "      <td>2</td>\n",
       "      <td>Si</td>\n",
       "      <td>No</td>\n",
       "      <td>No</td>\n",
       "      <td>No</td>\n",
       "      <td>Si</td>\n",
       "      <td>No</td>\n",
       "      <td>No</td>\n",
       "      <td>Si</td>\n",
       "      <td>No</td>\n",
       "      <td>No</td>\n",
       "      <td>2</td>\n",
       "      <td>Positivo</td>\n",
       "      <td>99</td>\n",
       "      <td>MÃÂ©xico</td>\n",
       "      <td>99</td>\n",
       "      <td>No</td>\n",
       "      <td>Culiacan</td>\n",
       "      <td>Sinaloa</td>\n",
       "      <td>25.0</td>\n",
       "      <td>-107.5</td>\n",
       "    </tr>\n",
       "    <tr>\n",
       "      <th>1</th>\n",
       "      <td>04/05/2020</td>\n",
       "      <td>1448c7</td>\n",
       "      <td>2</td>\n",
       "      <td>Publico</td>\n",
       "      <td>25</td>\n",
       "      <td>Hombre</td>\n",
       "      <td>99</td>\n",
       "      <td>25</td>\n",
       "      <td>6</td>\n",
       "      <td>2</td>\n",
       "      <td>14/04/2020</td>\n",
       "      <td>04/04/2020</td>\n",
       "      <td>17/04/2020</td>\n",
       "      <td>Si</td>\n",
       "      <td>Si</td>\n",
       "      <td>45</td>\n",
       "      <td>2</td>\n",
       "      <td>No aplica</td>\n",
       "      <td>2</td>\n",
       "      <td>No</td>\n",
       "      <td>No</td>\n",
       "      <td>No</td>\n",
       "      <td>No</td>\n",
       "      <td>No</td>\n",
       "      <td>No</td>\n",
       "      <td>No</td>\n",
       "      <td>No</td>\n",
       "      <td>No</td>\n",
       "      <td>No</td>\n",
       "      <td>2</td>\n",
       "      <td>Positivo</td>\n",
       "      <td>2</td>\n",
       "      <td>Estados Unidos de AmÃÂ©rica</td>\n",
       "      <td>99</td>\n",
       "      <td>No</td>\n",
       "      <td>Culiacan</td>\n",
       "      <td>Sinaloa</td>\n",
       "      <td>25.0</td>\n",
       "      <td>-107.5</td>\n",
       "    </tr>\n",
       "    <tr>\n",
       "      <th>2</th>\n",
       "      <td>04/05/2020</td>\n",
       "      <td>73442</td>\n",
       "      <td>2</td>\n",
       "      <td>Publico</td>\n",
       "      <td>25</td>\n",
       "      <td>Mujer</td>\n",
       "      <td>25</td>\n",
       "      <td>25</td>\n",
       "      <td>6</td>\n",
       "      <td>2</td>\n",
       "      <td>14/04/2020</td>\n",
       "      <td>06/04/2020</td>\n",
       "      <td>9999-99-99</td>\n",
       "      <td>No</td>\n",
       "      <td>Si</td>\n",
       "      <td>50</td>\n",
       "      <td>1</td>\n",
       "      <td>No</td>\n",
       "      <td>2</td>\n",
       "      <td>No</td>\n",
       "      <td>No</td>\n",
       "      <td>No</td>\n",
       "      <td>No</td>\n",
       "      <td>No</td>\n",
       "      <td>No</td>\n",
       "      <td>No</td>\n",
       "      <td>Si</td>\n",
       "      <td>No</td>\n",
       "      <td>No</td>\n",
       "      <td>2</td>\n",
       "      <td>Positivo</td>\n",
       "      <td>99</td>\n",
       "      <td>MÃÂ©xico</td>\n",
       "      <td>99</td>\n",
       "      <td>No</td>\n",
       "      <td>Culiacan</td>\n",
       "      <td>Sinaloa</td>\n",
       "      <td>25.0</td>\n",
       "      <td>-107.5</td>\n",
       "    </tr>\n",
       "  </tbody>\n",
       "</table>\n",
       "</div>"
      ],
      "text/plain": [
       "  Fecha_Actualizacion Id_Registro  Origen   Sector  Entidad_Um    Sexo  \\\n",
       "0          04/05/2020      1ab4e5       2  Publico          25  Hombre   \n",
       "1          04/05/2020      1448c7       2  Publico          25  Hombre   \n",
       "2          04/05/2020       73442       2  Publico          25   Mujer   \n",
       "\n",
       "   Entidad_Nac  Entidad_Res  Municipio_Res  Tipo_Paciente Fecha_Ingreso  \\\n",
       "0           25           25              6              2    06/04/2020   \n",
       "1           99           25              6              2    14/04/2020   \n",
       "2           25           25              6              2    14/04/2020   \n",
       "\n",
       "  Fecha_Sintomas   Fecha_Def Intubado Neumonia  Edad  Nacionalidad   Embarazo  \\\n",
       "0     31/03/2020  10/04/2020       Si       Si    42             1  No aplica   \n",
       "1     04/04/2020  17/04/2020       Si       Si    45             2  No aplica   \n",
       "2     06/04/2020  9999-99-99       No       Si    50             1         No   \n",
       "\n",
       "   Habla_Lengua_Indig Diabetes Epoc Asma Inmusupr Hipertension Otra_Com  \\\n",
       "0                   2       Si   No   No       No           Si       No   \n",
       "1                   2       No   No   No       No           No       No   \n",
       "2                   2       No   No   No       No           No       No   \n",
       "\n",
       "  Cardiovascular Obesidad Renal_Cronica Tabaquismo  Otro_Caso Resultado  \\\n",
       "0             No       Si            No         No          2  Positivo   \n",
       "1             No       No            No         No          2  Positivo   \n",
       "2             No       Si            No         No          2  Positivo   \n",
       "\n",
       "   Migrante             Pais_Nacionalidad Pais_Origen Uci Municipio   Estado  \\\n",
       "0        99                     MÃÂ©xico          99  No  Culiacan  Sinaloa   \n",
       "1         2  Estados Unidos de AmÃÂ©rica          99  No  Culiacan  Sinaloa   \n",
       "2        99                     MÃÂ©xico          99  No  Culiacan  Sinaloa   \n",
       "\n",
       "   Latitud  Longitud  \n",
       "0     25.0    -107.5  \n",
       "1     25.0    -107.5  \n",
       "2     25.0    -107.5  "
      ]
     },
     "execution_count": 6,
     "metadata": {},
     "output_type": "execute_result"
    }
   ],
   "source": [
    "df.head(3)"
   ]
  },
  {
   "cell_type": "markdown",
   "metadata": {},
   "source": [
    "**3. ANÁLISIS DESCRIPTIVO**"
   ]
  },
  {
   "cell_type": "markdown",
   "metadata": {},
   "source": [
    "Ante el desconocimiento del campo a tratar se realizan las siguientes observaciones a modo exploratorio con el fin de obtener un primer acercamiento a los datos y a la información."
   ]
  },
  {
   "cell_type": "markdown",
   "metadata": {},
   "source": [
    "**Número de personas que han dado positivo VS negativo**\n",
    "\n",
    "El siguiente resultado representa la cifra de positivos y negativos confirmados a 04 de Mayo de 2020,de un total de **100039 pacientes**."
   ]
  },
  {
   "cell_type": "code",
   "execution_count": 7,
   "metadata": {},
   "outputs": [
    {
     "data": {
      "text/plain": [
       "Negativo               61992\n",
       "Positivo               24904\n",
       "Resultado pendiente    13143\n",
       "Name: Resultado, dtype: int64"
      ]
     },
     "execution_count": 7,
     "metadata": {},
     "output_type": "execute_result"
    }
   ],
   "source": [
    "df['Resultado'].value_counts()"
   ]
  },
  {
   "cell_type": "markdown",
   "metadata": {},
   "source": [
    "Se observa que el número de positivos confirmados representan el **24,89%** de los usuarios, con un total de 24.904 casos. Se destaca que una parte considerable de los usuarios, un 13%, permanece con resultados pendientes, lo que puede ser un indicio del desborde de la siatuación. Los casos negativos representan la mayor parte, siendo el 61,97% de los pacientes."
   ]
  },
  {
   "cell_type": "markdown",
   "metadata": {},
   "source": [
    "**Numero de personas en UCI**\n"
   ]
  },
  {
   "cell_type": "markdown",
   "metadata": {},
   "source": [
    "A continuación se muestran las cifras de personas que permanecen en la Unidad de Cuidados Intensivos (UCI). "
   ]
  },
  {
   "cell_type": "code",
   "execution_count": 8,
   "metadata": {},
   "outputs": [
    {
     "data": {
      "text/plain": [
       "No aplica          73209\n",
       "No                 24553\n",
       "Si                  2250\n",
       "No especificado       27\n",
       "Name: Uci, dtype: int64"
      ]
     },
     "execution_count": 8,
     "metadata": {},
     "output_type": "execute_result"
    }
   ],
   "source": [
    "df['Uci'].value_counts()"
   ]
  },
  {
   "cell_type": "markdown",
   "metadata": {},
   "source": [
    "Se observa que un 2,25% de los pacientes se encuentran en la UCI. Siendo en total una cifra de 2.250 personas.\n",
    "\n",
    "A continuanción se filtran solo los positivos para apreciar la importancia de estos entre el total de los pacientes en cuidados intensivos."
   ]
  },
  {
   "cell_type": "code",
   "execution_count": 9,
   "metadata": {},
   "outputs": [
    {
     "data": {
      "text/plain": [
       "No aplica          14907\n",
       "No                  8976\n",
       "Si                  1015\n",
       "No especificado        6\n",
       "Name: Uci, dtype: int64"
      ]
     },
     "execution_count": 9,
     "metadata": {},
     "output_type": "execute_result"
    }
   ],
   "source": [
    "df[df['Resultado']=='Positivo']['Uci'].value_counts()"
   ]
  },
  {
   "cell_type": "markdown",
   "metadata": {},
   "source": [
    "Se puede comprobar que los casos de UCI en circunstancias de pandemia se duplican, representando el 45,11 de ellos, siendo necesarias el doble de camas en UCI que se necesitan de forma habitual.\n",
    "\n",
    "Se destaca que un 36,04% de los positivos en SARS CoV-2 no necesitan de cuidados intensivos."
   ]
  },
  {
   "cell_type": "markdown",
   "metadata": {},
   "source": [
    "**Número de personas que han fallecido**"
   ]
  },
  {
   "cell_type": "markdown",
   "metadata": {},
   "source": [
    "En las siguientes lineas de código se extrae el número de fallecimientos de diagnoticados con SARS CoV-2 hasta la fecha."
   ]
  },
  {
   "cell_type": "code",
   "execution_count": 10,
   "metadata": {},
   "outputs": [
    {
     "data": {
      "text/plain": [
       "2270"
      ]
     },
     "execution_count": 10,
     "metadata": {},
     "output_type": "execute_result"
    }
   ],
   "source": [
    "df_fallecidos = df[(df['Fecha_Def'] != '9999-99-99')& \\\n",
    "                             (df[\"Resultado\"] == 'Positivo')].copy()\n",
    "df_fallecidos['Id_Registro'].count()"
   ]
  },
  {
   "cell_type": "markdown",
   "metadata": {},
   "source": [
    "El número de fallecimientos representa un 3.58% de los pacientes, con un total de 2270 fallecidos. Más adelante se profundiza sobre la tasa de fallecimientos de la pandemia."
   ]
  },
  {
   "cell_type": "markdown",
   "metadata": {},
   "source": [
    "**Número de personas que han dado positivo y sin enfermedades**"
   ]
  },
  {
   "cell_type": "markdown",
   "metadata": {},
   "source": [
    "A continuación se muestra la cifra de positivos en SARS CoV-2 y sin enfermedades. Entre ellas, diabetes, enfermedad pulmonar obstructiva crónica (EPOC), asma, inmusupresión, hipertension, enfermedad cardiovascular, obesidad, enfermedad renal crónica, tabaquismo u otras."
   ]
  },
  {
   "cell_type": "code",
   "execution_count": 11,
   "metadata": {},
   "outputs": [],
   "source": [
    "def sinEnfermedad(*x):\n",
    "    \"\"\"Esta funcion filtra los pacientes que no tienen ninguna enfremedad. \n",
    "    Parameters\n",
    "    ----------\n",
    "    x : lista\n",
    "        Contiene las respuestas en forma de booleano, de si tiene una enfermedad o no\n",
    "    Return\n",
    "    ------\n",
    "    True : Boolean\n",
    "    False : Boolean\n",
    "    \"\"\"\n",
    "    if 'Si' in x:\n",
    "        return False\n",
    "    return True"
   ]
  },
  {
   "cell_type": "code",
   "execution_count": 12,
   "metadata": {},
   "outputs": [
    {
     "data": {
      "text/plain": [
       "11985"
      ]
     },
     "execution_count": 12,
     "metadata": {},
     "output_type": "execute_result"
    }
   ],
   "source": [
    "lista_enfermedades = list(df.columns)\n",
    "lista_enfermedades = lista_enfermedades[19:29]\n",
    "positivos_sin_enf = df[(df[lista_enfermedades].apply(lambda x: sinEnfermedad(*x), axis=1)) & \\\n",
    "                             (df[\"Resultado\"] == 'Positivo')][\"Id_Registro\"].count()\n",
    "\n",
    "positivos_sin_enf"
   ]
  },
  {
   "cell_type": "markdown",
   "metadata": {},
   "source": [
    "Se obtiene un total de 11.985 casos positivos en SARS CoV-2 en pacientes que no sufren ninguna enfermedad. Esto representa el 48,12% de los positivos, no siendo significativo para contraer el virus."
   ]
  },
  {
   "cell_type": "markdown",
   "metadata": {},
   "source": [
    "**Número de personas que dan positivo con alguna enfermedad**"
   ]
  },
  {
   "cell_type": "markdown",
   "metadata": {},
   "source": [
    "En el siguiente caso, se representa la cifra de positivos con alguna enfermedad previa"
   ]
  },
  {
   "cell_type": "code",
   "execution_count": 13,
   "metadata": {},
   "outputs": [
    {
     "data": {
      "text/plain": [
       "12919"
      ]
     },
     "execution_count": 13,
     "metadata": {},
     "output_type": "execute_result"
    }
   ],
   "source": [
    "def conEnfermedad(*x):\n",
    "    \"\"\"Esta funcion filtra los pacientes que si tienen ninguna enfremedad. \n",
    "    Parameters\n",
    "    ----------\n",
    "    x : lista\n",
    "        Contiene las respuestas en forma de booleano, de si tiene una enfermedad o no\n",
    "    Return\n",
    "    ------\n",
    "    True : Boolean\n",
    "    False : Boolean\n",
    "    \"\"\"\n",
    "    if 'Si' in x:\n",
    "        return True\n",
    "    return False\n",
    "\n",
    "positivos_enf = df[(df[lista_enfermedades].apply(lambda x: conEnfermedad(*x), axis=1)) & \\\n",
    "                             (df[\"Resultado\"] == 'Positivo')][\"Id_Registro\"].count()\n",
    "positivos_enf"
   ]
  },
  {
   "cell_type": "markdown",
   "metadata": {},
   "source": [
    "En este caso la cifra de positivos con alguna enfermedad es de 12.919, siendo una representación del 51,87%, levemente superior a la representación de pacientes positivos sin enfermedades previas."
   ]
  },
  {
   "cell_type": "markdown",
   "metadata": {},
   "source": [
    "**Número de personas que han fallecido (que han dado positivo) y sin enfermedades**"
   ]
  },
  {
   "cell_type": "markdown",
   "metadata": {},
   "source": [
    "Para observar la influencia de las enfermedades  previas  se analiza la importancia de ellas en el total de fallecimientos de los positivos en SARS CoV-2."
   ]
  },
  {
   "cell_type": "code",
   "execution_count": 17,
   "metadata": {},
   "outputs": [
    {
     "data": {
      "text/plain": [
       "513"
      ]
     },
     "execution_count": 17,
     "metadata": {},
     "output_type": "execute_result"
    }
   ],
   "source": [
    "falle_sin_enf = df_fallecidos[(df_fallecidos[lista_enfermedades].apply(lambda x: sinEnfermedad(*x), axis=1))][\"Id_Registro\"].count()\n",
    "\n",
    "falle_sin_enf"
   ]
  },
  {
   "cell_type": "markdown",
   "metadata": {},
   "source": [
    "Como resultado, se obtiene que el **22% de los fallecidos** tiene alguna enfermedad previa. Entre ellas: diabetes, enfermedad pulmonar obstructiva crónica (EPOC), asma, inmusupresión, hipertension, enfermedad cardiovascular, obesidad, enfermedad renal crónica, tabaquismo.\n",
    "    \n",
    "Representando una parte importante del total y por lo que se confirma la influencia de esta variable como riesgo."
   ]
  },
  {
   "cell_type": "markdown",
   "metadata": {},
   "source": [
    "**Tiempo promedio entre la fecha de síntomas y la fecha de defunción de los que han dado positivo**"
   ]
  },
  {
   "cell_type": "markdown",
   "metadata": {},
   "source": [
    "Para el siguiente dato se analizan las fechas tanto de sintómas como de defunción con lo que se obtiene tiempo medio en el que transcure la enfermedad en los casos de fallecimiento."
   ]
  },
  {
   "cell_type": "code",
   "execution_count": 20,
   "metadata": {},
   "outputs": [
    {
     "data": {
      "text/plain": [
       "Timedelta('10 days 03:40:45.462555')"
      ]
     },
     "execution_count": 20,
     "metadata": {},
     "output_type": "execute_result"
    }
   ],
   "source": [
    "#Cambio de formato objeto a date.time\n",
    "df_fecha_sin = pd.to_datetime(df_fallecidos['Fecha_Sintomas']\n",
    "                              .astype(str), format='%d/%m/%Y')\n",
    "df_fecha_def = pd.to_datetime(df_fallecidos['Fecha_Def']\n",
    "                              .astype(str), format='%d/%m/%Y')\n",
    "\n",
    "promedio_def = df_fecha_def - df_fecha_sin\n",
    "promedio_def.mean()"
   ]
  },
  {
   "cell_type": "markdown",
   "metadata": {},
   "source": [
    "Se obtiene una media de 10 días entre la fecha de síntomas y el fallecimiento."
   ]
  },
  {
   "cell_type": "markdown",
   "metadata": {},
   "source": [
    "**Enfermedad con mayor y menor prevalencia en los pacientes que dan positivo**"
   ]
  },
  {
   "cell_type": "markdown",
   "metadata": {},
   "source": [
    "En el siguiente apartado se analiza la enfermedad que más se repite entre los pacientes que son positivos y la que menos."
   ]
  },
  {
   "cell_type": "code",
   "execution_count": 22,
   "metadata": {},
   "outputs": [
    {
     "name": "stderr",
     "output_type": "stream",
     "text": [
      "C:\\Users\\noeli\\anaconda3\\envs\\bootcamp\\lib\\site-packages\\ipykernel_launcher.py:5: UserWarning: Boolean Series key will be reindexed to match DataFrame index.\n",
      "  \"\"\"\n"
     ]
    }
   ],
   "source": [
    "posi = df[df['Resultado']=='Positivo']\n",
    "\n",
    "lst = []\n",
    "for i in lista_enfermedades:\n",
    "    x= posi[df[i]=='Si']['Id_Registro'].count()\n",
    "    lst.append(x)\n",
    "lst\n",
    "\n",
    "lst2 = list(zip(lista_enfermedades, lst))\n",
    "\n",
    "columnas = ['Patologías', 'Recuento de casos']\n",
    "posi_enf = pd.DataFrame(lst2, columns= columnas)\n",
    "posi_enf = posi_enf.sort_values(by=['Recuento de casos']\n",
    "                                , ascending=[False]).reset_index(drop=True)"
   ]
  },
  {
   "cell_type": "code",
   "execution_count": 23,
   "metadata": {},
   "outputs": [
    {
     "data": {
      "text/html": [
       "<div>\n",
       "<style scoped>\n",
       "    .dataframe tbody tr th:only-of-type {\n",
       "        vertical-align: middle;\n",
       "    }\n",
       "\n",
       "    .dataframe tbody tr th {\n",
       "        vertical-align: top;\n",
       "    }\n",
       "\n",
       "    .dataframe thead th {\n",
       "        text-align: right;\n",
       "    }\n",
       "</style>\n",
       "<table border=\"1\" class=\"dataframe\">\n",
       "  <thead>\n",
       "    <tr style=\"text-align: right;\">\n",
       "      <th></th>\n",
       "      <th>Patologías</th>\n",
       "      <th>Recuento de casos</th>\n",
       "    </tr>\n",
       "  </thead>\n",
       "  <tbody>\n",
       "    <tr>\n",
       "      <th>0</th>\n",
       "      <td>Hipertension</td>\n",
       "      <td>5449</td>\n",
       "    </tr>\n",
       "  </tbody>\n",
       "</table>\n",
       "</div>"
      ],
      "text/plain": [
       "     Patologías  Recuento de casos\n",
       "0  Hipertension               5449"
      ]
     },
     "execution_count": 23,
     "metadata": {},
     "output_type": "execute_result"
    }
   ],
   "source": [
    "enf_mas_prevalencia = posi_enf.head(1)\n",
    "enf_mas_prevalencia"
   ]
  },
  {
   "cell_type": "code",
   "execution_count": 24,
   "metadata": {},
   "outputs": [
    {
     "data": {
      "text/html": [
       "<div>\n",
       "<style scoped>\n",
       "    .dataframe tbody tr th:only-of-type {\n",
       "        vertical-align: middle;\n",
       "    }\n",
       "\n",
       "    .dataframe tbody tr th {\n",
       "        vertical-align: top;\n",
       "    }\n",
       "\n",
       "    .dataframe thead th {\n",
       "        text-align: right;\n",
       "    }\n",
       "</style>\n",
       "<table border=\"1\" class=\"dataframe\">\n",
       "  <thead>\n",
       "    <tr style=\"text-align: right;\">\n",
       "      <th></th>\n",
       "      <th>Patologías</th>\n",
       "      <th>Recuento de casos</th>\n",
       "    </tr>\n",
       "  </thead>\n",
       "  <tbody>\n",
       "    <tr>\n",
       "      <th>9</th>\n",
       "      <td>Inmusupr</td>\n",
       "      <td>445</td>\n",
       "    </tr>\n",
       "  </tbody>\n",
       "</table>\n",
       "</div>"
      ],
      "text/plain": [
       "  Patologías  Recuento de casos\n",
       "9   Inmusupr                445"
      ]
     },
     "execution_count": 24,
     "metadata": {},
     "output_type": "execute_result"
    }
   ],
   "source": [
    "enf_menor_prevalencia = posi_enf.tail(1)\n",
    "enf_menor_prevalencia"
   ]
  },
  {
   "cell_type": "markdown",
   "metadata": {},
   "source": [
    "Los resultados muestran que la enfermedad más destacada entre los pacientes que dan positivo es la hipertensión arterial. En la posición de menor representación se encuentran los pacientes con inmusupresión.\n"
   ]
  },
  {
   "cell_type": "markdown",
   "metadata": {},
   "source": [
    "**Cantidad de pacientes intubados VS Cantidad de pacientes en UCI**"
   ]
  },
  {
   "cell_type": "markdown",
   "metadata": {},
   "source": [
    "A continuación se realiza una comparación de las personas intubadas y las personas que requieren cuidados intensivos."
   ]
  },
  {
   "cell_type": "code",
   "execution_count": 26,
   "metadata": {},
   "outputs": [
    {
     "data": {
      "text/plain": [
       "1032"
      ]
     },
     "execution_count": 26,
     "metadata": {},
     "output_type": "execute_result"
    }
   ],
   "source": [
    "df[(df[\"Resultado\"]=='Positivo') & (df['Intubado']=='Si')]['Id_Registro'].count()"
   ]
  },
  {
   "cell_type": "code",
   "execution_count": 34,
   "metadata": {},
   "outputs": [
    {
     "data": {
      "text/plain": [
       "1015"
      ]
     },
     "execution_count": 34,
     "metadata": {},
     "output_type": "execute_result"
    }
   ],
   "source": [
    "df[(df[\"Resultado\"]=='Positivo') & (df['Uci']=='Si')]['Id_Registro'].count()"
   ]
  },
  {
   "cell_type": "markdown",
   "metadata": {},
   "source": [
    "En conclusión, se aprecian cifras casi idénticas por lo que se plantea analizar la correlación entre las variables en la fase de visualización."
   ]
  }
 ],
 "metadata": {
  "kernelspec": {
   "display_name": "Python 3",
   "language": "python",
   "name": "python3"
  },
  "language_info": {
   "codemirror_mode": {
    "name": "ipython",
    "version": 3
   },
   "file_extension": ".py",
   "mimetype": "text/x-python",
   "name": "python",
   "nbconvert_exporter": "python",
   "pygments_lexer": "ipython3",
   "version": "3.7.7"
  }
 },
 "nbformat": 4,
 "nbformat_minor": 4
}
